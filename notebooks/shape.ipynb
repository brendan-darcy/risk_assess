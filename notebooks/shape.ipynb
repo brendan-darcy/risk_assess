{
 "cells": [
  {
   "cell_type": "code",
   "execution_count": null,
   "id": "21a70c0c",
   "metadata": {},
   "outputs": [],
   "source": [
    "# !pip install geopandas\n"
   ]
  },
  {
   "cell_type": "code",
   "execution_count": null,
   "id": "bd80511b",
   "metadata": {},
   "outputs": [],
   "source": "import geopandas as gpd\n\n# Path to shapefile (relative to repository root since notebook is in notebooks/)\nshapefile_path = \"../data/raw/MB_2021_AUST_GDA2020.shp\"\n\n# Import the shapefile\ngdf = gpd.read_file(shapefile_path)\n\n# Check the first few rows\nprint(gdf.head())"
  }
 ],
 "metadata": {
  "kernelspec": {
   "display_name": "bdpy-env",
   "language": "python",
   "name": "python3"
  },
  "language_info": {
   "codemirror_mode": {
    "name": "ipython",
    "version": 3
   },
   "file_extension": ".py",
   "mimetype": "text/x-python",
   "name": "python",
   "nbconvert_exporter": "python",
   "pygments_lexer": "ipython3",
   "version": "3.13.5"
  }
 },
 "nbformat": 4,
 "nbformat_minor": 5
}